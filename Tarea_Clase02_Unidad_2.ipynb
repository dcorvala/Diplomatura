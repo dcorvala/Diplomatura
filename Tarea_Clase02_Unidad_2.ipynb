{
  "nbformat": 4,
  "nbformat_minor": 0,
  "metadata": {
    "colab": {
      "provenance": [],
      "include_colab_link": true
    },
    "kernelspec": {
      "name": "python3",
      "display_name": "Python 3"
    },
    "language_info": {
      "name": "python"
    }
  },
  "cells": [
    {
      "cell_type": "markdown",
      "metadata": {
        "id": "view-in-github",
        "colab_type": "text"
      },
      "source": [
        "<a href=\"https://colab.research.google.com/github/dcorvala/Diplomatura/blob/main/Tarea_Clase02_Unidad_2.ipynb\" target=\"_parent\"><img src=\"https://colab.research.google.com/assets/colab-badge.svg\" alt=\"Open In Colab\"/></a>"
      ]
    },
    {
      "cell_type": "markdown",
      "source": [
        "# Ejercicio 1: variables"
      ],
      "metadata": {
        "id": "Ay7FOJWsYe83"
      }
    },
    {
      "cell_type": "markdown",
      "source": [
        "Contestar\n",
        "\n",
        "a) Asigná una variable con tu nombre(Recordá que no hace falta usar el input)\n",
        "\n",
        "b) ¿Cuál es la diferencia entre asignar y llamar una variable?\n",
        "\n",
        "c) ¿Qué pasa si llamas a una variable y no está asignada?"
      ],
      "metadata": {
        "id": "jb1etHRTp1MN"
      }
    },
    {
      "cell_type": "code",
      "source": [],
      "metadata": {
        "colab": {
          "base_uri": "https://localhost:8080/"
        },
        "id": "2RlwF-5mZPS7",
        "outputId": "060d8110-5886-4240-a997-1f63b3a67328"
      },
      "execution_count": null,
      "outputs": [
        {
          "output_type": "execute_result",
          "data": {
            "text/plain": [
              "1"
            ]
          },
          "metadata": {},
          "execution_count": 1
        }
      ]
    },
    {
      "cell_type": "markdown",
      "source": [
        "# Ejercicio 2: Nombres de variables\n",
        "Podemos asignar el nombre que queramos, respetando no usar las palabras reservadas de Python ni espacios, guiones o números al principio.\n",
        "```python\n",
        "\n",
        "# ['False', 'None', 'True', 'and', 'as', 'assert',\n",
        "# 'async', 'await', 'break', 'class', 'continue',\n",
        "# 'def', 'del', 'elif', 'else', 'except', 'finally',\n",
        "# 'for', 'from', 'global', 'if', 'import', 'in', 'is',\n",
        "# 'lambda', 'nonlocal', 'not', 'or', 'pass', 'raise',\n",
        "# 'return', 'try', 'while', 'with', 'yield']\n",
        "```"
      ],
      "metadata": {
        "id": "7LNbzrocqykt"
      }
    },
    {
      "cell_type": "markdown",
      "source": [
        "a) ¿Cuáles de la siguiente listas de palabras cuales pueden ser nombres de variables?\n",
        "\n",
        "\n",
        "\n",
        "*   precio1\n",
        "*   1precio\n",
        "*   cantidad_\n",
        "*   _cantidad\n",
        "*   FpWx\n",
        "*   lambda\n",
        "*   lambda1\n",
        "*   7for\n",
        "\n",
        "b) Probá las variables elegidas asignandole un número real.\n"
      ],
      "metadata": {
        "id": "LNE74NQYwj1d"
      }
    },
    {
      "cell_type": "markdown",
      "source": [
        "# Ejercicio 3: Vamos al cine\n",
        "a) Armar un programa que pregunte la edad al usuario y le diga si puede ver la película o no. Recordá que la película \"Argentina 1985\" es Apta para Mayores de 13 años.\n",
        "\n",
        "b) La entrada al cine sale $1200, armá el código de un programa que pregunte la plata que tiene el cliente e indique si puede sacar la entrada\n"
      ],
      "metadata": {
        "id": "JlvbBM1RxD5c"
      }
    },
    {
      "cell_type": "code",
      "source": [],
      "metadata": {
        "id": "A0fMlNDlUh7s"
      },
      "execution_count": null,
      "outputs": []
    },
    {
      "cell_type": "markdown",
      "source": [
        "# Ejercicio 4: Dados!\n",
        "\n",
        "José y Salvador juegan al siguiente juego.\n",
        "\n",
        "Tiran dos dados. Si sale algún 1 gana el José. Si no, gana Salvador.\n",
        "\n",
        "1. ¿Cómo podemos simular un dado con la función random?\n",
        "2. Escribir el paso a paso de este juego en un papel\n",
        "3. Hacer el código en la celda de abajo\n",
        "4. ¿Cómo modificar el código si ahora José gana tanto si sale algún 1 o algún 5?"
      ],
      "metadata": {
        "id": "9NhC7r8SZsCz"
      }
    },
    {
      "cell_type": "code",
      "source": [],
      "metadata": {
        "id": "_Ba3DiExZqxB"
      },
      "execution_count": null,
      "outputs": []
    }
  ]
}