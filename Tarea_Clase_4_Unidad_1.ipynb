{
  "nbformat": 4,
  "nbformat_minor": 0,
  "metadata": {
    "colab": {
      "provenance": [],
      "include_colab_link": true
    },
    "kernelspec": {
      "name": "python3",
      "display_name": "Python 3"
    },
    "language_info": {
      "name": "python"
    }
  },
  "cells": [
    {
      "cell_type": "markdown",
      "metadata": {
        "id": "view-in-github",
        "colab_type": "text"
      },
      "source": [
        "<a href=\"https://colab.research.google.com/github/dcorvala/Diplomatura/blob/main/Tarea_Clase_4_Unidad_1.ipynb\" target=\"_parent\"><img src=\"https://colab.research.google.com/assets/colab-badge.svg\" alt=\"Open In Colab\"/></a>"
      ]
    },
    {
      "cell_type": "markdown",
      "source": [
        "##Ejercicio 1: Figuritas"
      ],
      "metadata": {
        "id": "47GZvetKwUaZ"
      }
    },
    {
      "cell_type": "markdown",
      "source": [
        "\n",
        "Antes de arrancar con la tarea, intentá hacer la actividad del album para un album de 6 y otro de 639 figuritas por tu cuenta. Va un poco de ayuda\n",
        "\n"
      ],
      "metadata": {
        "id": "2HdJMTm6o034"
      }
    },
    {
      "cell_type": "code",
      "source": [
        "import random\n",
        "\n",
        "cant_figus = #completar\n",
        "album = [0] * #completar\n",
        "\n",
        "contador = 0\n",
        "\n",
        "while sum(album) < cant_figus:\n",
        "  figu = random.randint(0, cant_figus-1)\n",
        "  #completar\n",
        "  contador = #completar\n",
        "\n",
        "print(contador)"
      ],
      "metadata": {
        "id": "jxKBFN5_pSie",
        "colab": {
          "base_uri": "https://localhost:8080/"
        },
        "outputId": "7f3d9924-1a82-4466-b04d-75b0af12de33"
      },
      "execution_count": null,
      "outputs": [
        {
          "output_type": "stream",
          "name": "stdout",
          "text": [
            "3589\n"
          ]
        }
      ]
    },
    {
      "cell_type": "markdown",
      "source": [
        "1. ¿Cuántas figuritas tuve que comprar para poder llenar el álbum?\n",
        "2. Modificar el código para saber cuántas figuritas me vinieron de cada una. ¿De cuál me vinieron más?\n",
        "\n",
        "**Extra:** El código anterior sirve para simular \"un álbum\". Utilizar un ciclo para simular \"100 álbunes\" y contestar, cuántas figuritas necesito rellenar *en promedio*."
      ],
      "metadata": {
        "id": "_Ka1_mvX2Qv2"
      }
    },
    {
      "cell_type": "markdown",
      "source": [
        "# Ejercicio 2: Otra vez figuritas"
      ],
      "metadata": {
        "id": "E4SyZHyQRyDm"
      }
    },
    {
      "cell_type": "markdown",
      "source": [
        "Sigamos con las figuritas: Dos amigos coleccionan figuritas del mundial.\n",
        "\n",
        "Diego tiene las figuritas: 1,3,5,7 y 9\n",
        "\n",
        "Lola tienen las figuritas: 2,3, 7, 9 y 10\n",
        "\n",
        "Como \"la unión hace la fuerza\", deciden juntar las figuritas para completar su álbum de 10 figus totales\n",
        "\n",
        "i) Creen un album que recree las figuritas que tienen en conjunto.\n",
        "album_conjunto=\t\t#completar\n",
        "\n",
        "ii) Creen una lista que represente las figuritas que tienen cada uno de ellos\n",
        "\n",
        "figus_diego=\t\t#completar\n",
        "\n",
        "figus_lola=\t\t#completar\n",
        "\n",
        "\n",
        "\n",
        "\n",
        "iii)Agregar un comentario que indique qué hace el siguiente comando(Recordar que la posición 2 de la lista indica la figurita 3)\n",
        "\n",
        "if  figus_diego[2] == figus_lola[2]:\n",
        "\n",
        "\tprint(\"La figurita 3 es igual\")\n",
        "\n",
        "else:\n",
        "\n",
        "\tprint(\"La figurita 3 no es igual\")\n",
        "\n",
        "\n",
        "iv) ¿Cómo cambiarían el código para analizar la quinta figurita?¿y la séptima?\n",
        "\n",
        "v)¿Cómo podríamos generalizar el código para que sirva para cualquier figurita del álbum?\n"
      ],
      "metadata": {
        "id": "VgpjYP1ySIYQ"
      }
    },
    {
      "cell_type": "code",
      "source": [
        "# código\n"
      ],
      "metadata": {
        "id": "BF5x5vLt_Jzc"
      },
      "execution_count": null,
      "outputs": []
    }
  ]
}