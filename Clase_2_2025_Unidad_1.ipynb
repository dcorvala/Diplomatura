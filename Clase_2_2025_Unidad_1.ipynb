{
  "cells": [
    {
      "cell_type": "markdown",
      "metadata": {
        "id": "view-in-github",
        "colab_type": "text"
      },
      "source": [
        "<a href=\"https://colab.research.google.com/github/dcorvala/Diplomatura/blob/main/Clase_2_2025_Unidad_1.ipynb\" target=\"_parent\"><img src=\"https://colab.research.google.com/assets/colab-badge.svg\" alt=\"Open In Colab\"/></a>"
      ]
    },
    {
      "cell_type": "markdown",
      "metadata": {
        "id": "cGeXNl5JgGFX"
      },
      "source": [
        "# **Actividad 1: Condicionales**\n",
        "\n",
        "**Consigna 1:**\n",
        "\n",
        "*Escriban **(en papel)** en grupo las instrucciones detalladas que necesitan paso por paso para poder llevar adelante esa tarea.*\n",
        "\n",
        "*Imaginen que tienen la consigna de admitir una persona a un lugar solamente si esa persona es mayor de edad.*\n",
        "\n",
        "Agregar un cuadro de texto a continuación y escribir la lista de instrucciones que escribieron.\n",
        "\n"
      ]
    },
    {
      "cell_type": "markdown",
      "metadata": {
        "id": "pEEl1xJPolsL"
      },
      "source": [
        "**Consigna 2:**\n",
        "\n",
        "El siguiente código realiza la tarea que discutimos la clase pasada\n",
        "\n",
        "```\n",
        "#introducimos la edad\n",
        "edad = 30\n",
        "\n",
        "#decide si es mayor a 18\n",
        "if edad>=18:\n",
        "  print('Sos mayor de edad, podés pasar')\n",
        "else:\n",
        "  print('Sos menor de edad, no podés pasar')\n",
        "```\n",
        "\n",
        "1. Armar una nueva celda de código, copiarlo y probar que efectivamente cumple la tarea.\n",
        "\n",
        "2. Probar con distintas edades e identificar qué ocurre en cada paso. ¿En qué momento toma la desición?"
      ]
    },
    {
      "cell_type": "code",
      "execution_count": null,
      "metadata": {
        "colab": {
          "base_uri": "https://localhost:8080/",
          "height": 193
        },
        "id": "XdOMfZPXZzAj",
        "outputId": "9f0c9678-ca71-434b-e7e1-4d85ca36eac9"
      },
      "outputs": [
        {
          "output_type": "error",
          "ename": "NameError",
          "evalue": "name 'edad' is not defined",
          "traceback": [
            "\u001b[0;31m---------------------------------------------------------------------------\u001b[0m",
            "\u001b[0;31mNameError\u001b[0m                                 Traceback (most recent call last)",
            "\u001b[0;32m<ipython-input-19-e58f6fef1847>\u001b[0m in \u001b[0;36m<cell line: 0>\u001b[0;34m()\u001b[0m\n\u001b[0;32m----> 1\u001b[0;31m \u001b[0;32mif\u001b[0m \u001b[0medad\u001b[0m \u001b[0;34m>=\u001b[0m\u001b[0;36m18\u001b[0m\u001b[0;34m:\u001b[0m\u001b[0;34m\u001b[0m\u001b[0;34m\u001b[0m\u001b[0m\n\u001b[0m\u001b[1;32m      2\u001b[0m   \u001b[0mprint\u001b[0m\u001b[0;34m(\u001b[0m\u001b[0;34m'Pasa'\u001b[0m\u001b[0;34m)\u001b[0m\u001b[0;34m\u001b[0m\u001b[0;34m\u001b[0m\u001b[0m\n\u001b[1;32m      3\u001b[0m \u001b[0;32melse\u001b[0m\u001b[0;34m:\u001b[0m\u001b[0;34m\u001b[0m\u001b[0;34m\u001b[0m\u001b[0m\n\u001b[1;32m      4\u001b[0m   \u001b[0mprint\u001b[0m\u001b[0;34m(\u001b[0m\u001b[0;34m'no pasa'\u001b[0m\u001b[0;34m)\u001b[0m\u001b[0;34m\u001b[0m\u001b[0;34m\u001b[0m\u001b[0m\n",
            "\u001b[0;31mNameError\u001b[0m: name 'edad' is not defined"
          ]
        }
      ],
      "source": [
        "if edad >=18:\n",
        "  print('Pasa')\n",
        "else:\n",
        "  print('no pasa')"
      ]
    },
    {
      "cell_type": "code",
      "execution_count": null,
      "metadata": {
        "colab": {
          "base_uri": "https://localhost:8080/"
        },
        "id": "Urs1_sfcO4sv",
        "outputId": "37276a21-7b74-4099-d49e-4622f2bfe2b4"
      },
      "outputs": [
        {
          "name": "stdout",
          "output_type": "stream",
          "text": [
            "pasa\n"
          ]
        }
      ],
      "source": [
        "print('pasa')"
      ]
    },
    {
      "cell_type": "markdown",
      "metadata": {
        "id": "gXnz5MfNLEgJ"
      },
      "source": [
        "**Consigna 3:**\n",
        "\n",
        "A partir de lo aprendido con el código anterior queremos armar uno nuevo para saber si una persona cobra más o menos que el Salario Mínimo Vital y Móvil ($) fijado el 1° de diciembre de 2024.\n",
        "\n",
        "1. Pensar en papel los pasos necesarios para hacerlo\n",
        "2. En la celda de código que hay abajo, copiar el código anterior y modificarlo para que realiza esta tarea.\n",
        "3. (Extra) Para quienes se animen: ¿Pueden utilizar la función *imput* que vimos la clase pasada para que el código pregunte el salario, y en base a eso conteste?\n",
        "4. ¿el algoritmo que hicieron hace lo que ustedes pusieron en el punto 1.? ¿En qué momento toma la decisión?\n",
        "\n",
        "\n",
        "\n",
        "*Nota: El **Salario Mínimo Vital y Móvil (SMVM)** está garantizado por el artículo 14 bis de la Constitución Nacional y fue reglamentado por la Ley de Contrato de Trabajo, que define al salario mínimo como el piso de ingresos que puede percibir un empleado como retribución por su trabajo.*\n"
      ]
    },
    {
      "cell_type": "code",
      "execution_count": null,
      "metadata": {
        "id": "flZoVeIi1WId"
      },
      "outputs": [],
      "source": [
        "# Resolución\n",
        "\n"
      ]
    },
    {
      "cell_type": "markdown",
      "metadata": {
        "id": "uN5aFaldWYKQ"
      },
      "source": [
        "**Consigna 4** (Extra)\n",
        "\n",
        "El salario mínimo para una persona que realiza tareas cuidando personas es de  $3.089 por hora (1).\n",
        "\n",
        "Realizar un código que le pregunte el salario a una persona y cuántas horas mensuales trabaja y en base a esa información informe si está cobrando de acuerdo a esta reglamentación o la está incumpliendo.\n",
        "\n",
        "*(1) https://www.argentina.gob.ar/trabajo/casasparticulares/trabajador/sueldo*"
      ]
    },
    {
      "cell_type": "code",
      "execution_count": null,
      "metadata": {
        "id": "YuOdDzkz1Xxr",
        "colab": {
          "base_uri": "https://localhost:8080/"
        },
        "outputId": "14576506-bf25-41f4-e9f0-cf3a9eb638ca"
      },
      "outputs": [
        {
          "output_type": "stream",
          "name": "stdout",
          "text": [
            "Cuanto cobras?9000\n",
            "cuantas horas?9\n",
            "te estan negreando\n"
          ]
        }
      ],
      "source": [
        "# Resolución\n",
        "\n",
        "salariobase = 3089\n",
        "salario = int(input('Cuanto cobras?'))\n",
        "horario = int(input('cuantas horas?'))\n",
        "\n",
        "if salario/horario >= salariobase:\n",
        "  print('estás dentro de la escala')\n",
        "else:\n",
        "  print('te estan negreando')"
      ]
    },
    {
      "cell_type": "code",
      "source": [
        "salario = float(input('ingrese su salario'))\n",
        "horas = float(input('ingrese sus horas'))\n",
        "\n",
        "salarioreal=3089\n",
        "\n",
        "salarioXH = salario/horas\n",
        "\n",
        "if salarioXH == salarioreal:\n",
        "  print('te negrean')"
      ],
      "metadata": {
        "colab": {
          "base_uri": "https://localhost:8080/"
        },
        "id": "ec5EcMWaNKug",
        "outputId": "ed4b5389-fdb6-4bd7-9ab7-514937538454"
      },
      "execution_count": null,
      "outputs": [
        {
          "name": "stdout",
          "output_type": "stream",
          "text": [
            "ingrese su salario89070\n",
            "ingrese sus horas80\n"
          ]
        }
      ]
    },
    {
      "cell_type": "code",
      "source": [],
      "metadata": {
        "id": "FTr0vyZSN5qO"
      },
      "execution_count": null,
      "outputs": []
    },
    {
      "cell_type": "markdown",
      "metadata": {
        "id": "rfx045HlwONh"
      },
      "source": [
        "# **Actividad 2: El semáforo**\n",
        "\n",
        "**Consigna 1**\n",
        "\n",
        "*Hacer en el cuaderno*\n",
        "\n",
        "Teniendo en cuenta, lo  visto en el ejercicio anterior, crear un algoritmo que indique que pare si la luz está roja y que avance si la luz está verde.\n",
        "\n",
        "*Luego traslademos a código en el colab*\n",
        "\n",
        "\n",
        "\n"
      ]
    },
    {
      "cell_type": "code",
      "execution_count": null,
      "metadata": {
        "id": "yI1VVN-Ew2R7"
      },
      "outputs": [],
      "source": [
        "# Resolución\n",
        "\n"
      ]
    },
    {
      "cell_type": "markdown",
      "metadata": {
        "id": "xH9WWcxjw68K"
      },
      "source": [
        "**Consigna 2**\n",
        "\n",
        "¿Cómo deberíamos modificar el código para que pare si la luz está roja, avance si la luz está verde y que acelere si la luz está amarilla?\n",
        "\n",
        "*Usen la pista que está en la diapositiva*"
      ]
    },
    {
      "cell_type": "code",
      "execution_count": null,
      "metadata": {
        "id": "sSBtk7W4w5gm"
      },
      "outputs": [],
      "source": [
        "#Resolución"
      ]
    },
    {
      "cell_type": "markdown",
      "metadata": {
        "id": "_hLkNU_zxSAw"
      },
      "source": [
        "**Consigna 3**\n",
        "\n",
        "Agreguemosle al código la luz naranja para que frene.\n"
      ]
    },
    {
      "cell_type": "code",
      "execution_count": null,
      "metadata": {
        "id": "IuLj9OWbxlU7"
      },
      "outputs": [],
      "source": [
        "#Resolución"
      ]
    },
    {
      "cell_type": "markdown",
      "metadata": {
        "id": "KMWsfHu0L_zP"
      },
      "source": [
        "# **Actividad 3: Operadores lógicos**\n",
        "\n",
        "Se usan para combinar dos o más condiciones\n",
        "\n",
        "\n",
        "**Ejemplo 1**\n",
        "\n",
        "Si esta soleado Y hace calor --> me meto a la pileta\n",
        "\n",
        "\n",
        "*Tienen que pasar las dos cosas*"
      ]
    },
    {
      "cell_type": "code",
      "execution_count": null,
      "metadata": {
        "id": "e9PmgCPsPmE0",
        "colab": {
          "base_uri": "https://localhost:8080/"
        },
        "outputId": "539f581f-7eff-43d4-d814-3d3fe497c353"
      },
      "outputs": [
        {
          "output_type": "stream",
          "name": "stdout",
          "text": [
            "A la pileta!\n"
          ]
        }
      ],
      "source": [
        "cielo = 'soleado'\n",
        "temperatura = 32\n",
        "\n",
        "if cielo == 'soleado' and temperatura > 30:\n",
        "  print('A la pileta!')"
      ]
    },
    {
      "cell_type": "markdown",
      "metadata": {
        "id": "EFXavY5PP028"
      },
      "source": [
        "**Ejemplo 2**\n",
        "\n",
        "Si esta llueve O hace frío --> me pongo la campera\n",
        "\n",
        "\n",
        "*Tienen que pasar ALGUNA de las dos cosas*"
      ]
    },
    {
      "cell_type": "code",
      "execution_count": null,
      "metadata": {
        "colab": {
          "base_uri": "https://localhost:8080/"
        },
        "id": "xrC_DRjsQY_Q",
        "outputId": "aa0d3b2d-8cab-4d5e-b26a-9a2ddc43c6fd"
      },
      "outputs": [
        {
          "output_type": "stream",
          "name": "stdout",
          "text": [
            "No te olvides la campera!\n"
          ]
        }
      ],
      "source": [
        "cielo = 'lluvioso'\n",
        "temperatura = 20\n",
        "\n",
        "if cielo == 'lluvioso' or temperatura < 10:\n",
        "  print('No te olvides la campera!')\n",
        "elif cielo == 'lluvioso' and temperatura < 10:\n",
        "  print('ponete campera y paraguas')\n",
        "\n"
      ]
    },
    {
      "cell_type": "markdown",
      "metadata": {
        "id": "f7wsD3t-R2bo"
      },
      "source": [
        "**Ejemplo 3**\n",
        "\n",
        "Pueden haber más condiciones\n",
        "\n",
        "Si esta soleado **Y NO** tengo que trabajar **Y NO** tengo que estudiar --> puedo ir a tomar sol\n",
        "\n",
        "\n",
        "*Tienen que pasar TODAS de las dos cosas. Además, hemos incluido el NOT para indicar cosas que NO tienen que pasar*"
      ]
    },
    {
      "cell_type": "code",
      "execution_count": null,
      "metadata": {
        "colab": {
          "base_uri": "https://localhost:8080/"
        },
        "id": "kL8ElIV7R_vj",
        "outputId": "0ca40c0e-09a4-4aaa-a14d-c654648ee560"
      },
      "outputs": [
        {
          "output_type": "stream",
          "name": "stdout",
          "text": [
            "Puedo tomar sol!\n"
          ]
        }
      ],
      "source": [
        "cielo = 'soleado'\n",
        "trabajar = False\n",
        "estudiar = False\n",
        "\n",
        "if cielo == 'soleado' and not trabajar and not estudiar:\n",
        "  print('Puedo tomar sol!')"
      ]
    },
    {
      "cell_type": "markdown",
      "metadata": {
        "id": "uqhgz4wBQwAk"
      },
      "source": [
        " **Consigna 1**. Utilizar estos operadores para armar un código que le consulte la edad y el salario a un trabajador. Si es mayor de 16 años y cobra más que el salario mínimo, está en regla según la legislación Argentina. Si es menor de 16 años O cobra menos que el salario mínimo, incumple la legislación. Utilizar la alternativa condicional en conjunto con operadores lógicos para informarle al trabajador si está en regla.\n"
      ]
    },
    {
      "cell_type": "markdown",
      "metadata": {
        "id": "3HHRGF5JL-iV"
      },
      "source": [
        "# **Actividad 4:** La moneda\n",
        "\n",
        "\n",
        "\n",
        "## Juego 1\n",
        "Dos jugadores tiran la moneda. Si sale cara el primer jugador gana y el segundo jugador hace una prenda. Si sale seca, el segundo jugador gana y el primer jugador hace una prenda.\n",
        "\n",
        "**Jugadores**\n",
        "\n",
        "Jugador 1= *ingresar nombre del jugador 1*\n",
        "\n",
        "Jugador 2= *ingresar nombre del jugador 2*\n",
        "\n",
        "**Prendas**\n",
        "\n",
        "Prenda para el jugador 1= *ingresar prenda*\n",
        "\n",
        "Prenda para el jugador 2= *ingresar prenda*\n",
        "\n",
        "¡A JUGAR!"
      ]
    },
    {
      "cell_type": "markdown",
      "metadata": {
        "id": "kpHnHB2QgK3v"
      },
      "source": [
        "##Modulos\n",
        "Los módulos permiten reutilizar el código de otros programadores. Un módulo es un archivo (o fichero) que contiene un conjunto de definiciones de funciones, variables y clases. Los módulos se pueden importar para reutilizar ese código.\n",
        "\n",
        "\n",
        "El primer módulo que vamso a ver es random:\n",
        "-Escribir en la consola:"
      ]
    },
    {
      "cell_type": "code",
      "execution_count": null,
      "metadata": {
        "id": "CJeu9jsTg9pb"
      },
      "outputs": [],
      "source": [
        "import random"
      ]
    },
    {
      "cell_type": "markdown",
      "metadata": {
        "id": "dBoDvKlnhHaT"
      },
      "source": [
        "Ahora tenemos en nuestro colab las funciones que que los que programaron random hicieron y amablemente compartieron con toda la comunidad. Dentro de random tenemos funciones que nos permiten calcular cosas \"al azar\". Probar el siguiente código ¿Qué es lo que hace?\n"
      ]
    },
    {
      "cell_type": "code",
      "execution_count": null,
      "metadata": {
        "colab": {
          "background_save": true,
          "base_uri": "https://localhost:8080/"
        },
        "id": "LwsMKhVOhyaW",
        "outputId": "494fce7f-8f6a-4a14-c17b-ba1578a3295e"
      },
      "outputs": [
        {
          "data": {
            "text/plain": [
              "3"
            ]
          },
          "execution_count": 35,
          "metadata": {},
          "output_type": "execute_result"
        }
      ],
      "source": [
        "random.randint(1,5)"
      ]
    },
    {
      "cell_type": "markdown",
      "metadata": {
        "id": "PhN_PzWejiX8"
      },
      "source": [
        "¿Cómo simularíamos el tirado de una moneda?"
      ]
    },
    {
      "cell_type": "markdown",
      "metadata": {
        "id": "EA-f5ctgIL4p"
      },
      "source": [
        "Ahora sí, estamos listos para armar el código:"
      ]
    },
    {
      "cell_type": "code",
      "execution_count": null,
      "metadata": {
        "id": "Vci-mIujMAt1"
      },
      "outputs": [],
      "source": [
        "# Primero armemos las instrucciones de los pasos que caracterizan el juego"
      ]
    },
    {
      "cell_type": "code",
      "execution_count": null,
      "metadata": {
        "id": "TsdudAlOMOpQ"
      },
      "outputs": [],
      "source": [
        "# Vamos juntos a armar el código\n"
      ]
    },
    {
      "cell_type": "markdown",
      "metadata": {
        "id": "EAe6JFrwMcHA"
      },
      "source": [
        "## Juego 2\n",
        "\n",
        "Dos jugadores tiran la moneda 3 veces. Si sale más veces cara el primer jugador gana y el segundo jugador hace una prenda. Si sale más veces seca, el segundo jugador gana y el primer jugador hace una prenda.\n",
        "\n",
        "\n",
        "\n",
        "Jugadores\n",
        "\n",
        "Jugador 1= ingresar nombre del jugador 1\n",
        "\n",
        "Jugador 2= ingresar nombre del jugador 2\n",
        "\n",
        "Prendas\n",
        "\n",
        "Prenda para el jugador 1= ingresar prenda\n",
        "\n",
        "Prenda para el jugador 2= ingresar prenda\n",
        "\n",
        "¡A JUGAR!"
      ]
    },
    {
      "cell_type": "code",
      "execution_count": null,
      "metadata": {
        "id": "uE_sgteYMhQH"
      },
      "outputs": [],
      "source": [
        "# Armar el código del juego\n",
        "# Primero armemos las instrucciones de los pasos que caracterizan el juego\n"
      ]
    },
    {
      "cell_type": "code",
      "execution_count": null,
      "metadata": {
        "id": "325-KxdoMnFk"
      },
      "outputs": [],
      "source": [
        "# Ahora pasemos esas instrucciones a código"
      ]
    },
    {
      "cell_type": "markdown",
      "metadata": {
        "id": "aeIChPetS0PB"
      },
      "source": [
        "## Juego 3\n",
        "\n",
        "Dos jugadores tiran dos monedas. Si las dos son caras, gana el jugador 1. Si no, gana el jugador 2."
      ]
    },
    {
      "cell_type": "code",
      "execution_count": null,
      "metadata": {
        "id": "gGabr3uaS_Zb"
      },
      "outputs": [],
      "source": [
        "#Completar"
      ]
    },
    {
      "cell_type": "markdown",
      "metadata": {
        "id": "lEjXMlpFTA52"
      },
      "source": [
        "¿Qué jugador preferís ser?"
      ]
    },
    {
      "cell_type": "markdown",
      "metadata": {
        "id": "udgSOxXZx4yK"
      },
      "source": [
        "# **Actividad Extra - Películas**\n",
        "Transformá el siguiente algoritmo a código de python y ejecutalo en el Colab\n",
        "\n",
        "Objetivo: De una lista de películas determinada, preguntarle al usuario cual le interesa ver y mostrarle la ficha de la película:\n",
        "\n",
        "1. Imprimir la siguiente lista de películas:\n",
        " Las películas disponibles son:\n",
        "Opción 1\n",
        "Opción 2\n",
        "Opción 3\n",
        "Opción 4\n",
        "Otro\"\n",
        "2. Pedirle al usuario el número de la opción escogida.\n",
        "3. Realizar un condicional que a partir del número escogido imprima la ficha de la película.\n",
        "\n",
        "Aclaración: Si no selecciona ninguna de las opciones debe imprimirse un mensaje de error.\n"
      ]
    },
    {
      "cell_type": "code",
      "execution_count": null,
      "metadata": {
        "id": "VOaRfqaYx4Hw"
      },
      "outputs": [],
      "source": [
        "#Resolución"
      ]
    },
    {
      "cell_type": "markdown",
      "metadata": {
        "id": "MErXzYqHBKgN"
      },
      "source": [
        "# **Actividad 6: La verdulería**\n",
        "\n"
      ]
    },
    {
      "cell_type": "markdown",
      "metadata": {
        "id": "PsehARug8VmS"
      },
      "source": [
        "Hay un error en el siguiente código. Para encontrarlo, mirá la salida, seguí el camino de comprobaciones que hace python. ¿La respuesta es la esperada según los valores iniciales?"
      ]
    },
    {
      "cell_type": "code",
      "execution_count": null,
      "metadata": {
        "colab": {
          "base_uri": "https://localhost:8080/"
        },
        "id": "_CHiiQtbwinK",
        "outputId": "b186a75a-1534-41c0-a54b-36b3c972c0b1"
      },
      "outputs": [
        {
          "output_type": "stream",
          "name": "stdout",
          "text": [
            "Que barata la cebolla che, dame un kg\n",
            "fondo2 290\n",
            "Ta` cara la papa no?.. más de 389\n",
            "Y agrame un kg de zanahoria\n",
            "fondo3 119\n",
            "Tu vuelto es  119\n"
          ]
        }
      ],
      "source": [
        "fondo = 500\n",
        "papa = 389\n",
        "cebolla = 210\n",
        "zanahoria = 171\n",
        "\n",
        "if papa + cebolla + zanahoria <= fondo:\n",
        "    print('Dame un kg de cada uno')\n",
        "    print('fondo1', fondo)\n",
        "elif cebolla < 250:\n",
        "    print('Que barata la cebolla che, dame un kg')\n",
        "    fondo = fondo - cebolla\n",
        "    print('fondo2', fondo)\n",
        "    if papa <= fondo:\n",
        "        print('Dame papa')\n",
        "        fondo = fondo - papa\n",
        "        print('fondo3', fondo)\n",
        "    else:\n",
        "        print('Ta` cara la papa no?.. más de', papa)\n",
        "        if fondo >= zanahoria:\n",
        "            print('Y agrame un kg de zanahoria')\n",
        "            fondo = fondo - zanahoria\n",
        "            print('fondo3', fondo)\n",
        "            print('Tu vuelto es ', fondo)\n",
        "\n",
        "else:\n",
        "    print('Que locura no se puede comprar nada')\n"
      ]
    },
    {
      "cell_type": "code",
      "execution_count": null,
      "metadata": {
        "colab": {
          "base_uri": "https://localhost:8080/"
        },
        "id": "rMmJu5TnBlJU",
        "outputId": "befb206f-264f-4d64-88d9-65e76b8ddbf4"
      },
      "outputs": [
        {
          "name": "stdout",
          "output_type": "stream",
          "text": [
            "fondo es: 119\n"
          ]
        }
      ],
      "source": [
        "# Pista\n",
        "print('fondo es:', fondo)"
      ]
    },
    {
      "cell_type": "markdown",
      "metadata": {
        "id": "UIlS01Ry9oel"
      },
      "source": [
        "EXTRA: ¿Te animás a usar _and_, _or_ ó _not_ en el código anterior?"
      ]
    },
    {
      "cell_type": "code",
      "execution_count": null,
      "metadata": {
        "id": "rpkXAGdc9l3c"
      },
      "outputs": [],
      "source": [
        "# código\n"
      ]
    }
  ],
  "metadata": {
    "colab": {
      "provenance": [],
      "include_colab_link": true
    },
    "kernelspec": {
      "display_name": "Python 3",
      "name": "python3"
    },
    "language_info": {
      "name": "python"
    }
  },
  "nbformat": 4,
  "nbformat_minor": 0
}