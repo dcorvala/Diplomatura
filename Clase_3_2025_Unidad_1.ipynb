{
  "nbformat": 4,
  "nbformat_minor": 0,
  "metadata": {
    "colab": {
      "provenance": [],
      "include_colab_link": true
    },
    "kernelspec": {
      "name": "python3",
      "display_name": "Python 3"
    },
    "language_info": {
      "name": "python"
    }
  },
  "cells": [
    {
      "cell_type": "markdown",
      "metadata": {
        "id": "view-in-github",
        "colab_type": "text"
      },
      "source": [
        "<a href=\"https://colab.research.google.com/github/dcorvala/Diplomatura/blob/main/Clase_3_2025_Unidad_1.ipynb\" target=\"_parent\"><img src=\"https://colab.research.google.com/assets/colab-badge.svg\" alt=\"Open In Colab\"/></a>"
      ]
    },
    {
      "cell_type": "markdown",
      "source": [
        "# Actividad 1: Listas\n",
        "\n",
        "\n",
        "Vamos a armar una lista con las comidas que propusieron en discord."
      ],
      "metadata": {
        "id": "4ASe-eKssB0k"
      }
    },
    {
      "cell_type": "code",
      "source": [
        "comidas=['milanesa', 'dulce de leche', 'hamburguesa', 'pizza', 'cerveza' #COMPLETAR ]\n",
        "\n"
      ],
      "metadata": {
        "id": "O0J-Prevr2VZ"
      },
      "execution_count": null,
      "outputs": []
    },
    {
      "cell_type": "markdown",
      "source": [
        "Explorar los siguientes comandos\n",
        "\n",
        "\n",
        "\n",
        "```\n",
        "comida[0]  \n",
        "comidas[:3]\n",
        "comidas[2:]\n",
        "comidas[2]\n",
        "len(comidas)\n",
        "```\n",
        "\n"
      ],
      "metadata": {
        "id": "eqttVZnosORx"
      }
    },
    {
      "cell_type": "markdown",
      "source": [
        "1. Probarlos y comentar al lado de cada uno qué hace cada uno\n",
        "2. ¿Cómo podemos hacer para obtener el segundo elemento de la lista?\n",
        "3. ¿Cómo harían para obtener el último?\n",
        "4. ¿Cómo obtenemos los primeros 4 elementos? ¿Y los últimos 4?"
      ],
      "metadata": {
        "id": "QdkUd0u0bwf8"
      }
    },
    {
      "cell_type": "markdown",
      "source": [
        "EXTRA:\n",
        "Probar estos otros comandos.\n",
        "\n",
        "\n",
        "\n",
        "```\n",
        "comidas[-1]\n",
        "comidas[-2:]\n",
        "comidas[2:4]\n",
        "```\n",
        "\n",
        "¿Alguna de las consignas anteriores se podrían resolver más fácil con estos comandos?\n"
      ],
      "metadata": {
        "id": "8LDgFBGTcZzc"
      }
    },
    {
      "cell_type": "markdown",
      "source": [
        "## Actualizar una lista\n",
        "\n",
        "Probar los siguientes comandos y discutir qué hacen.\n",
        "\n",
        "```\n",
        "comidas[4] = 'fideos'\n",
        "comidas.append('papas al horno')\n",
        "lista_palabras.remove('milanesa')\n",
        "comidas.index('fideos')\n",
        "\n",
        "```\n",
        "\n",
        "Realizar lo mismo con otro elemento."
      ],
      "metadata": {
        "id": "UtYwGSqtdk-B"
      }
    },
    {
      "cell_type": "markdown",
      "source": [
        "## Lista vacía\n",
        "\n",
        "¡Podemos armar una lista vacía!"
      ],
      "metadata": {
        "id": "3z0kK4uDd8Uh"
      }
    },
    {
      "cell_type": "code",
      "source": [
        "lista_vacia = []"
      ],
      "metadata": {
        "id": "O5viTvoveB00"
      },
      "execution_count": null,
      "outputs": []
    },
    {
      "cell_type": "markdown",
      "source": [
        "¿Qué longitud piensan que va a tener? Comprobalo"
      ],
      "metadata": {
        "id": "mZW9TaxxeDq8"
      }
    },
    {
      "cell_type": "code",
      "source": [
        "lista_vacia.append('fideos')\n",
        "lista_vacia.append('papas fritas')"
      ],
      "metadata": {
        "id": "ZeijcAc5eLpb"
      },
      "execution_count": null,
      "outputs": []
    },
    {
      "cell_type": "markdown",
      "source": [
        "¿Qué largo piensan que va a tener ahora? Comprobalo!"
      ],
      "metadata": {
        "id": "SNwT-4d8eSEj"
      }
    },
    {
      "cell_type": "markdown",
      "source": [
        "##Extra Listas"
      ],
      "metadata": {
        "id": "WnxajrmaUZ4u"
      }
    },
    {
      "cell_type": "markdown",
      "source": [
        "a) ¿Qué sucede cuando sumamos las listas entre sí?"
      ],
      "metadata": {
        "id": "SXNbZtW-UeDf"
      }
    },
    {
      "cell_type": "code",
      "source": [
        "lista_1=[2,3,7]\n",
        "lista_2=[1,0,4]\n",
        "lista_total=lista_1 + lista_2\n",
        "print(lista_total)"
      ],
      "metadata": {
        "id": "GD1-xo7hUihB"
      },
      "execution_count": null,
      "outputs": []
    },
    {
      "cell_type": "markdown",
      "source": [
        "b) ¿Qué pasa si multiplicamos una lista por un número? (Pueden mirar en el explorador de variables o agregar un print)"
      ],
      "metadata": {
        "id": "GDzjdq1IUmWu"
      }
    },
    {
      "cell_type": "code",
      "source": [
        "lista_ceros=[0]*5\n",
        "print(lista_ceros)"
      ],
      "metadata": {
        "id": "CPmnoywLUq4A"
      },
      "execution_count": null,
      "outputs": []
    },
    {
      "cell_type": "code",
      "source": [
        "#Listas con 3 holas\n",
        "lista_holas=#completar"
      ],
      "metadata": {
        "id": "w-EM_CQzUwOF"
      },
      "execution_count": null,
      "outputs": []
    },
    {
      "cell_type": "markdown",
      "source": [
        "c) Indicar de qué son las siguientes listas¿Cómo te diste cuenta?"
      ],
      "metadata": {
        "id": "TThqfYrtUsFO"
      }
    },
    {
      "cell_type": "code",
      "source": [
        "jugadores=['Ángel Di María','Julián Álvarez','Lionel Messi', 'Enzo Fernández', 'Rodrigo De Paul','Emiliano Martinez']\n",
        "\n",
        "precio_alquileres=[8000.2, 32095.6,20000]\n",
        "\n",
        "lista_palabras=['circo', 'máscara', 'silla', 'teléfono','carpeta']"
      ],
      "metadata": {
        "id": "mDtqotvvVBWC"
      },
      "execution_count": null,
      "outputs": []
    },
    {
      "cell_type": "markdown",
      "source": [
        "# Actividad 2: Nuestras edades\n",
        "\n",
        "Ahora vamos a trabajar con las edades que tenemos las personas en el curso\n",
        "\n",
        "1. Armar una lista con las edades de todas las personas del curso.\n",
        "\n"
      ],
      "metadata": {
        "id": "pHw8OtMMSCjQ"
      }
    },
    {
      "cell_type": "code",
      "source": [
        "edades = #completar"
      ],
      "metadata": {
        "id": "A1NPPfbZ_rg0"
      },
      "execution_count": null,
      "outputs": []
    },
    {
      "cell_type": "markdown",
      "source": [
        "2. Seleccionar las primeras tres edades\n",
        "3. Seleccionar la última edad"
      ],
      "metadata": {
        "id": "4l_e_1gK_37r"
      }
    },
    {
      "cell_type": "markdown",
      "source": [
        "4. Probar el siguiente comando y discutir qué creen que hace"
      ],
      "metadata": {
        "id": "cHorx65__tmp"
      }
    },
    {
      "cell_type": "code",
      "source": [
        "sum(edades)"
      ],
      "metadata": {
        "id": "Th7uvps4_xn-"
      },
      "execution_count": null,
      "outputs": []
    },
    {
      "cell_type": "markdown",
      "source": [
        "5. Utilizar ese comando para calcular el promedio de edades del curso.\n",
        "\n",
        "*Recuerdo: Para calcular un promedio entre varios valores debemos sumar todos los valores y dividirlo por la cantidad de valores totales*"
      ],
      "metadata": {
        "id": "1A3h7uzt_zxH"
      }
    },
    {
      "cell_type": "code",
      "source": [
        "promedio = #Completar"
      ],
      "metadata": {
        "id": "hHCKYST8_y4S"
      },
      "execution_count": null,
      "outputs": []
    },
    {
      "cell_type": "markdown",
      "source": [
        "# Actividad 3: Recorrer listas"
      ],
      "metadata": {
        "id": "vWluXajGstur"
      }
    },
    {
      "cell_type": "markdown",
      "source": [
        "Comprar estos dos códigos. ¿Qué hace cada uno?\n",
        "\n"
      ],
      "metadata": {
        "id": "nLTXut32fSDX"
      }
    },
    {
      "cell_type": "code",
      "source": [
        "for elemento in edad:\n",
        " print(elemento*2)\n"
      ],
      "metadata": {
        "id": "wS4Gz6Sbs0YB"
      },
      "execution_count": null,
      "outputs": []
    },
    {
      "cell_type": "code",
      "source": [
        "for i in comidas:\n",
        " print(i)"
      ],
      "metadata": {
        "id": "C_KU8ZGkfbSX"
      },
      "execution_count": null,
      "outputs": []
    },
    {
      "cell_type": "markdown",
      "source": [
        "1) Modificar el primer código para que se muestren los números de la lista edad, más uno.\n",
        "\n",
        "2) Modificar el segundo código para ver cuántas letras tiene cada una de las palabras de la lista comida. (Pista: Así cómo con len() podemos saber el largo de una lista, ¿podremos saber el de una palabra?)"
      ],
      "metadata": {
        "id": "wXntrWuffq7M"
      }
    },
    {
      "cell_type": "markdown",
      "source": [
        "## Range\n",
        "\n",
        "Vamos a utilizar la función range."
      ],
      "metadata": {
        "id": "SXGCTWaghvSG"
      }
    },
    {
      "cell_type": "code",
      "source": [
        "range(0,10)"
      ],
      "metadata": {
        "id": "V3ToI52Ks6oO",
        "colab": {
          "base_uri": "https://localhost:8080/"
        },
        "outputId": "0f9ae287-f0c1-4226-e425-b161b70fdfd0"
      },
      "execution_count": null,
      "outputs": [
        {
          "output_type": "execute_result",
          "data": {
            "text/plain": [
              "range(0, 10)"
            ]
          },
          "metadata": {},
          "execution_count": 3
        }
      ]
    },
    {
      "cell_type": "markdown",
      "source": [
        "Si bien no es tan fácil \"ver\" cómo es este objeto. Sí podemos recorrerlo"
      ],
      "metadata": {
        "id": "WRrMsnJ3iMc7"
      }
    },
    {
      "cell_type": "code",
      "source": [
        "for i in range(0,10):\n",
        "  print(i)"
      ],
      "metadata": {
        "colab": {
          "base_uri": "https://localhost:8080/"
        },
        "id": "Zq8hKyPbiT3g",
        "outputId": "9c78341b-b77d-4282-c6cb-580cff92cc91"
      },
      "execution_count": null,
      "outputs": [
        {
          "output_type": "stream",
          "name": "stdout",
          "text": [
            "0\n",
            "1\n",
            "2\n",
            "3\n",
            "4\n",
            "5\n",
            "6\n",
            "7\n",
            "8\n",
            "9\n"
          ]
        }
      ]
    },
    {
      "cell_type": "markdown",
      "source": [
        "1. ¿Cómo te parece que es este objeto?\n",
        "\n",
        "2. ¿A cuál de los objetos que ya conocés se parecen?\n",
        "\n",
        "3. Las palabras for y range están escritas en inglés ¿qué significan? Escriban en castellano, de forma coloquial, la órden que está dando el for\n",
        "\n",
        "4. ¿En qué contexto te parece que podría utilizarse?\n",
        "\n",
        "5. Escribir los 10 primeros \"números cuadrados\" (Aquellos números que son un número multiplicado por sí mismo o un número**2)\n",
        "\n",
        "6. Y este otro código, ¿Qué hace? ¿Cómo?"
      ],
      "metadata": {
        "id": "RRRT50mIiXof"
      }
    },
    {
      "cell_type": "code",
      "source": [
        "for i in range(11,0,-1):\n",
        " print(i)"
      ],
      "metadata": {
        "id": "A3Djog2VhzHM"
      },
      "execution_count": null,
      "outputs": []
    },
    {
      "cell_type": "markdown",
      "source": [
        "6. Comprar estos dos códigos: ¿En qué se diferencian? Qué ventajas tiene cada uno?"
      ],
      "metadata": {
        "id": "2BI7diu3CD2s"
      }
    },
    {
      "cell_type": "code",
      "source": [
        "lista=[2,3,4,9,20]\n",
        "largo_lista=len(lista)\n",
        "\n",
        "\n",
        "for i in range(0, largo_lista):\n",
        " print(lista[i])\n"
      ],
      "metadata": {
        "id": "tCrBm1FTtCiC"
      },
      "execution_count": null,
      "outputs": []
    },
    {
      "cell_type": "code",
      "source": [
        "lista=[2,3,4,9,20]\n",
        "\n",
        "\n",
        "for l in lista:\n",
        " print(l)"
      ],
      "metadata": {
        "id": "cBxNEDaHCL2O"
      },
      "execution_count": null,
      "outputs": []
    },
    {
      "cell_type": "markdown",
      "source": [
        "7. Armar otra nueva lista con el nombre de las comidas que propusieron, tal cual cómo las nombraron en discord. Completar el siguiente código:"
      ],
      "metadata": {
        "id": "Ptw43SLdBr-d"
      }
    },
    {
      "cell_type": "code",
      "source": [
        "nombres = #completar\n",
        "largo_lista =  len(comidas)\n",
        "\n",
        "for i in range(0, largo_lista):\n",
        "  print(#completar,\" va a traer \", #completar, ' la próxima clase.')"
      ],
      "metadata": {
        "id": "HNuzwbsHtaMe"
      },
      "execution_count": null,
      "outputs": []
    },
    {
      "cell_type": "markdown",
      "source": [
        "# Actividad 4: Moneda recargada"
      ],
      "metadata": {
        "id": "3AtwoY3PDuBF"
      }
    },
    {
      "cell_type": "markdown",
      "source": [
        "La clase pasada hicimos un código para simular un juego con una moneda.\n",
        "Ahora vamos a trabajar con una variación:\n",
        "\n",
        "## Juego 4\n",
        "*Jugadores*\n",
        "\n",
        "Jugador 1= ingresar nombre del jugador 1\n",
        "\n",
        "Jugador 2= ingresar nombre del jugador 2\n",
        "\n",
        "*Prendas*\n",
        "\n",
        "Prenda para el jugador 1= ingresar prenda\n",
        "\n",
        "Prenda para el jugador 2= ingresar prenda\n",
        "\n",
        "Se tira la moneda 10 veces. Si sale cara más veces, gana el jugador 1. Si sale seca más veces gana el jugador 2. Si salen iguales ¡los dos hacen la prenda!\n",
        "\n",
        "1. Jugar el juego en parejas\n",
        "2. Hacer un código que lo simule"
      ],
      "metadata": {
        "id": "6F5BZfQECSDK"
      }
    },
    {
      "cell_type": "code",
      "source": [
        "# Completar"
      ],
      "metadata": {
        "id": "Bvl7-P3AWdDZ"
      },
      "execution_count": null,
      "outputs": []
    },
    {
      "cell_type": "markdown",
      "source": [
        "## Juego 5\n",
        "\n",
        "Cada jugador tira la moneda hasta que salga cara. Se cuentan la cantidad de secas que salieron hasta que salió la primer cara. Ese jugador va a tener que hacer esa cantidad de saltos en un pie.\n",
        "\n",
        "1. Jugar el juego en parejas.\n",
        "2. El siguiente código simula este juego. Para eso introducimos un nuevo ciclo *while*. Discutir qué hace, y por qué para este caso es mejor que el for.\n"
      ],
      "metadata": {
        "id": "zJ-f6n-xcB9E"
      }
    },
    {
      "cell_type": "code",
      "source": [
        "import random\n",
        "\n",
        "secas = 0\n",
        "moneda = random.randint(0,1) #0 es cara, 1 es seca\n",
        "while moneda == 1:\n",
        "  moneda = random.randint(0,1)\n",
        "  secas = secas + 1\n",
        "\n",
        "print('Tenés que saltar ',secas, ' veces')"
      ],
      "metadata": {
        "colab": {
          "base_uri": "https://localhost:8080/"
        },
        "id": "Di8jnm0Sc_cv",
        "outputId": "074a9da8-9e75-4d09-9e0e-42ba6d610ff1"
      },
      "execution_count": null,
      "outputs": [
        {
          "output_type": "stream",
          "name": "stdout",
          "text": [
            "Tenés que saltar  5  veces\n"
          ]
        }
      ]
    },
    {
      "cell_type": "code",
      "source": [],
      "metadata": {
        "id": "5QDbK24MbzYY"
      },
      "execution_count": null,
      "outputs": []
    },
    {
      "cell_type": "markdown",
      "source": [
        "# Actividad 5: El super\n",
        "\n",
        "Vamos a ir al super y comprar todos los chocolates que pueda. Supongamos que un chocolate vale $2933.\n",
        "\n",
        "Diseñamos un algoritmo que compra chocolates mientras los fondos le alcanzan, y nos permite saber el vuelto que obtenemos.\n"
      ],
      "metadata": {
        "id": "zLcFBmDjqVlU"
      }
    },
    {
      "cell_type": "code",
      "source": [
        "precio = 2933\n",
        "fondos= 15000\n",
        "\n",
        "while fondos>precio:\n",
        "  fondos = fondos - precio\n",
        "\n",
        "\n",
        "print('El vuelto será ', fondos, ' pesos')"
      ],
      "metadata": {
        "colab": {
          "base_uri": "https://localhost:8080/"
        },
        "id": "vulckkqGqXGI",
        "outputId": "d15af0ac-1f1c-42eb-ab01-fe3b87190abc"
      },
      "execution_count": null,
      "outputs": [
        {
          "output_type": "stream",
          "name": "stdout",
          "text": [
            "El vuelto será  335  pesos. Compramos  5  productos\n"
          ]
        }
      ]
    },
    {
      "cell_type": "code",
      "source": [
        "contador += 1"
      ],
      "metadata": {
        "id": "yJDhRowN02O_"
      },
      "execution_count": null,
      "outputs": []
    },
    {
      "cell_type": "markdown",
      "source": [
        "1. Discutir entre todos cómo modificar el código para saber cuántos chocolates compré.\n",
        "2. Modificar el código para comprar todo lo que se pueda de una lista de productos con los siguientes precios y saber cuáles productos compré."
      ],
      "metadata": {
        "id": "OL5_dMinsjjS"
      }
    },
    {
      "cell_type": "code",
      "source": [
        "lista_precios = [900, 7080, 2060, 2933, 1860, 950, 1145, 3000]\n"
      ],
      "metadata": {
        "id": "DQbrHvaOrbYT"
      },
      "execution_count": null,
      "outputs": []
    },
    {
      "cell_type": "markdown",
      "source": [
        "3. Extra: Informar también cuáles productos compre, si la lista de precios anterior corresponde a estos productos:\n",
        "\n"
      ],
      "metadata": {
        "id": "e5lHLqOzs3kV"
      }
    },
    {
      "cell_type": "code",
      "source": [
        "productos = ['sal', 'café','pan lactal', 'chocolate', 'papel higénico', 'lavandina', 'leche', 'huevos']"
      ],
      "metadata": {
        "id": "wnw3u0_ws_cM"
      },
      "execution_count": null,
      "outputs": []
    },
    {
      "cell_type": "markdown",
      "source": [
        "4. ¿Extra: Se te ocurre una estrategia para comprar la mayor cantidad de productos posible?"
      ],
      "metadata": {
        "id": "XWaK6Rkjtwxr"
      }
    },
    {
      "cell_type": "code",
      "source": [],
      "metadata": {
        "id": "pWAakgmEt1mp"
      },
      "execution_count": null,
      "outputs": []
    }
  ]
}