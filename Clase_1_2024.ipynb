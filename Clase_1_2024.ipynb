{
  "nbformat": 4,
  "nbformat_minor": 0,
  "metadata": {
    "colab": {
      "provenance": [],
      "include_colab_link": true
    },
    "kernelspec": {
      "name": "python3",
      "display_name": "Python 3"
    },
    "language_info": {
      "name": "python"
    }
  },
  "cells": [
    {
      "cell_type": "markdown",
      "metadata": {
        "id": "view-in-github",
        "colab_type": "text"
      },
      "source": [
        "<a href=\"https://colab.research.google.com/github/dcorvala/Diplomatura/blob/main/Clase_1_2024.ipynb\" target=\"_parent\"><img src=\"https://colab.research.google.com/assets/colab-badge.svg\" alt=\"Open In Colab\"/></a>"
      ]
    },
    {
      "cell_type": "markdown",
      "source": [
        "#**Actividad 1**\n",
        "\n",
        "*Realizar la actividad en grupos de 2 o 3 personas*\n",
        "\n",
        "**Consigna 1:**\n",
        "*Hacer en el cuaderno*\n",
        "\n",
        "Imaginen que son vendedores de un supermercado. Escriban las instrucciones para conocer cómo calcular el precio total de la siguiente venta: dos paquetes de arroz (cada uno sale 300 pesos) y cinco paquetes de fideos (cada uno sale 400 pesos).\n",
        "\n",
        "\n",
        "\n"
      ],
      "metadata": {
        "id": "cGeXNl5JgGFX"
      }
    },
    {
      "cell_type": "markdown",
      "source": [
        "**Consigna 2:**\n",
        "*Hacer en el cuaderno*\n",
        "\n",
        " Ahora se agrega al pedido anterior 3 paquetes de chocolate (cada uno sale 500 pesos), escriban las instrucciones del nuevo pedido."
      ],
      "metadata": {
        "id": "pEEl1xJPolsL"
      }
    },
    {
      "cell_type": "markdown",
      "source": [
        "\n",
        "**Consigna 3:**\n",
        "\n",
        "*hacer sin computadora*\n",
        "\n",
        "¿Cuál es la información relevante para poder hacer el cálculo del precio total de la compra?\n",
        "A partir de esa info, elaboren una fórmula que modele la situación de la consigna 1."
      ],
      "metadata": {
        "id": "X1e-dZjNol4S"
      }
    },
    {
      "cell_type": "markdown",
      "source": [
        "\n",
        "**Consigna 4**\n",
        "\n",
        "El siguiente código resuelve el problema de la consigna 1. Observénlo. ¿hay alguna relación entre lo escrito en la *terminal* y lo que ustedes hicieron en la consigna 3? ¿cuál es? ¿para qué puede servir, entonces, pensar la fórmula de un problema?\n",
        "\n"
      ],
      "metadata": {
        "id": "MiH_bXnhomM2"
      }
    },
    {
      "cell_type": "code",
      "execution_count": null,
      "metadata": {
        "colab": {
          "base_uri": "https://localhost:8080/"
        },
        "id": "4LTdSOI3gE5L",
        "outputId": "e32f8bd9-30ef-469e-8d50-c601d9a22527"
      },
      "outputs": [
        {
          "output_type": "stream",
          "name": "stdout",
          "text": [
            "2600\n"
          ]
        }
      ],
      "source": [
        "# Indicar el precio de cada producto\n",
        "precio_arroz = 300\n",
        "precio_fideos = 400\n",
        "\n",
        "#Indicar la cantidad de cada producto a comprar\n",
        "cant_arroz = 2\n",
        "cant_fideos = 5\n",
        "\n",
        "#Calcular el importe de compra\n",
        "importe_compra = precio_arroz*cant_arroz + precio_fideos*cant_fideos\n",
        "\n",
        "#Informar el valor del importe\n",
        "print(importe_compra)"
      ]
    },
    {
      "cell_type": "markdown",
      "source": [
        "**Consigna 5**\n",
        "\n",
        "Ahora les dejamos a continuación una terminal vacía. Copien ahí lo que está en la terminal anterior  y modifiquen el código para agregar los 3 paquetes de chocolate de la consigna 2 de esta actividad en el cálculo del importe de la compra.\n",
        "\n",
        "*Para copiar código podemos seleccionarlo y tocar las teclas ctrl+C y luego pararnos en la nueva celda y tocar crtl+V*"
      ],
      "metadata": {
        "id": "KpozTHfBpyGF"
      }
    },
    {
      "cell_type": "code",
      "source": [
        "# resolución...\n",
        "\n"
      ],
      "metadata": {
        "id": "QhpowDbgqDp5",
        "colab": {
          "base_uri": "https://localhost:8080/"
        },
        "outputId": "9aebeadb-f587-47cb-8103-f4ed4cc77803"
      },
      "execution_count": null,
      "outputs": [
        {
          "output_type": "stream",
          "name": "stdout",
          "text": [
            "4100\n"
          ]
        }
      ]
    },
    {
      "cell_type": "markdown",
      "source": [
        "# **Actividad 2**\n",
        "\n",
        "**Consigna 1**:\n",
        "\n",
        "El siguiente algoritmo les pregunta su nombre, lugar de donde provienen y edad, y lo guarda. Miren cómo funciona y ejecútenlo.\n",
        "Escribir la información obtenida en la pantalla\n",
        "\n"
      ],
      "metadata": {
        "id": "k5eG6s9fZukN"
      }
    },
    {
      "cell_type": "code",
      "source": [
        "nombre=input('Escribir nombre ')\n",
        "procedencia=input('lugar de procedencia ')\n",
        "edad=input('edad')"
      ],
      "metadata": {
        "id": "atTWPZ2wXcpL",
        "colab": {
          "base_uri": "https://localhost:8080/"
        },
        "outputId": "9a7c5b24-599c-44e2-8b1a-ee97ad4263e4"
      },
      "execution_count": null,
      "outputs": [
        {
          "name": "stdout",
          "output_type": "stream",
          "text": [
            "Escribir nombre Alejandro\n",
            "lugar de procedencia Argentina\n",
            "edad32\n"
          ]
        }
      ]
    },
    {
      "cell_type": "markdown",
      "source": [
        "Veamos qué hizo el algoritmo"
      ],
      "metadata": {
        "id": "-9ThCJeqZsqS"
      }
    },
    {
      "cell_type": "code",
      "source": [
        "print(nombre)\n",
        "print(procedencia)\n",
        "print(edad)\n"
      ],
      "metadata": {
        "colab": {
          "base_uri": "https://localhost:8080/"
        },
        "id": "vOB8O69qXdIL",
        "outputId": "cdcde658-f10e-46fe-be10-3e374a7421a4"
      },
      "execution_count": null,
      "outputs": [
        {
          "output_type": "stream",
          "name": "stdout",
          "text": [
            "Alejandro\n",
            "Argentina\n",
            "32\n"
          ]
        }
      ]
    },
    {
      "cell_type": "markdown",
      "source": [
        "**Consigna 2**:\n",
        "¿Qué modificaciones habría que hacerle al algoritmo si se quisiera saber primero la edad, luego el nombre y por último el lugar de procedencia? ¿y si quisiéramos además conocer el gusto de helado favorito?\n"
      ],
      "metadata": {
        "id": "b0ZECewSafRI"
      }
    },
    {
      "cell_type": "code",
      "source": [
        "#Hacer las modificaciones correspondientes para cumplir con la consigna 2\n"
      ],
      "metadata": {
        "id": "Y4vIxqnvXfmL",
        "colab": {
          "base_uri": "https://localhost:8080/"
        },
        "outputId": "e4c1d1f5-1069-4598-8990-9310422645c8"
      },
      "execution_count": null,
      "outputs": [
        {
          "name": "stdout",
          "output_type": "stream",
          "text": [
            "edad  19\n",
            "procedencia corrientes\n",
            "nombre alejandro\n",
            "gusto de helado favorito marroc\n"
          ]
        }
      ]
    },
    {
      "cell_type": "code",
      "source": [
        "#edad=\n",
        "\n",
        "#comparación"
      ],
      "metadata": {
        "id": "WuAavongapLC"
      },
      "execution_count": null,
      "outputs": []
    },
    {
      "cell_type": "markdown",
      "source": [
        "# Actividad 3\n",
        "\n",
        "1. Observemos estas tres variables. La función *type()* sirve para saber el tipo de datos de una variable. Utilizarla para ver qué tipo de datos es cada una.\n",
        "\n"
      ],
      "metadata": {
        "id": "q5KtkA1kf_GK"
      }
    },
    {
      "cell_type": "code",
      "source": [
        "edad = 27\n",
        "altura = 1.65\n",
        "nombre = \"Yamila\"\n"
      ],
      "metadata": {
        "id": "zC3T_HVDkiGx"
      },
      "execution_count": null,
      "outputs": []
    },
    {
      "cell_type": "code",
      "source": [
        "type(edad)"
      ],
      "metadata": {
        "colab": {
          "base_uri": "https://localhost:8080/"
        },
        "id": "8oKMcimdHKov",
        "outputId": "276980f9-2a60-452f-ba6b-a31fd7d1c4b9"
      },
      "execution_count": null,
      "outputs": [
        {
          "output_type": "execute_result",
          "data": {
            "text/plain": [
              "int"
            ]
          },
          "metadata": {},
          "execution_count": 2
        }
      ]
    },
    {
      "cell_type": "code",
      "source": [
        "type(edad)"
      ],
      "metadata": {
        "colab": {
          "base_uri": "https://localhost:8080/"
        },
        "id": "47GJbz0Rlb-J",
        "outputId": "a1e7336c-0c06-4632-ccaa-90f20a27b39d"
      },
      "execution_count": null,
      "outputs": [
        {
          "output_type": "execute_result",
          "data": {
            "text/plain": [
              "int"
            ]
          },
          "metadata": {},
          "execution_count": 3
        }
      ]
    },
    {
      "cell_type": "markdown",
      "source": [
        "Discutir otras dos variables que podrían ser representadas con cada tipo de datos encontrado."
      ],
      "metadata": {
        "id": "dASekor9k7WD"
      }
    },
    {
      "cell_type": "code",
      "source": [
        "# completar"
      ],
      "metadata": {
        "id": "wDhhcuNAlK76"
      },
      "execution_count": null,
      "outputs": []
    },
    {
      "cell_type": "markdown",
      "source": [
        "1. Observar las siguientes operaciones. ANTES DE EJECUTARLAS intentar adivinar cuáles son permitidas y con cuáles obtendremos un error.\n",
        "\n",
        "2. Para las que creas que son correctas, agregá un comentario indicando qué está haciendo.\n",
        "\n",
        "3. Ejecutá cada celda para comprobarlo. ¿Corre correctamente? Si no lo hace, cuál es el error que indica. Si si lo hace, ¿lo que está haciendo es lo correcto? Entre todos discutamos qué comentarios agregar sobre cada operación.\n",
        "\n"
      ],
      "metadata": {
        "id": "4HDdvesalS3t"
      }
    },
    {
      "cell_type": "code",
      "source": [
        "altura/2"
      ],
      "metadata": {
        "id": "TqwoqR4xmFrb"
      },
      "execution_count": null,
      "outputs": []
    },
    {
      "cell_type": "code",
      "source": [
        "type(edad)\n",
        "mitad = edad / 2\n",
        "type(mitad)"
      ],
      "metadata": {
        "id": "2uuSsoBbmCX7"
      },
      "execution_count": null,
      "outputs": []
    },
    {
      "cell_type": "code",
      "source": [
        "edad = input('¿Cuál es tu edad?')\n",
        "type(edad)"
      ],
      "metadata": {
        "id": "3w4pyVCZoSW9"
      },
      "execution_count": null,
      "outputs": []
    },
    {
      "cell_type": "code",
      "source": [
        "nombre*2"
      ],
      "metadata": {
        "id": "trdtryibmJm-"
      },
      "execution_count": null,
      "outputs": []
    },
    {
      "cell_type": "code",
      "source": [
        "edad*altura"
      ],
      "metadata": {
        "id": "b_igvhFXmLxp"
      },
      "execution_count": null,
      "outputs": []
    },
    {
      "cell_type": "code",
      "source": [
        "altura*nombre"
      ],
      "metadata": {
        "id": "r5zm_W6rmP52"
      },
      "execution_count": null,
      "outputs": []
    },
    {
      "cell_type": "code",
      "source": [
        "edad > 18"
      ],
      "metadata": {
        "id": "kfr_to_vmSd1"
      },
      "execution_count": null,
      "outputs": []
    },
    {
      "cell_type": "code",
      "source": [
        "afirmacion = edad > 18\n",
        "#¿Qué tipo de datos es esta nueva variable?"
      ],
      "metadata": {
        "id": "tXKX3g3hnThu"
      },
      "execution_count": null,
      "outputs": []
    },
    {
      "cell_type": "code",
      "source": [
        "edad == 18"
      ],
      "metadata": {
        "id": "pJGl0uX_mnh1"
      },
      "execution_count": null,
      "outputs": []
    },
    {
      "cell_type": "code",
      "source": [
        "type(edad)"
      ],
      "metadata": {
        "id": "pZRhGjfenlPV"
      },
      "execution_count": null,
      "outputs": []
    },
    {
      "cell_type": "code",
      "source": [
        "type = 3\n"
      ],
      "metadata": {
        "id": "cp3RlZJMnbJl"
      },
      "execution_count": null,
      "outputs": []
    },
    {
      "cell_type": "code",
      "source": [
        "type(edad) #de nuevo!"
      ],
      "metadata": {
        "id": "9pumubTXng9X"
      },
      "execution_count": null,
      "outputs": []
    },
    {
      "cell_type": "code",
      "source": [],
      "metadata": {
        "id": "TSvuwVN0npB7"
      },
      "execution_count": null,
      "outputs": []
    }
  ]
}