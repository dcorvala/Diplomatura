{
  "nbformat": 4,
  "nbformat_minor": 0,
  "metadata": {
    "colab": {
      "provenance": [],
      "include_colab_link": true
    },
    "kernelspec": {
      "name": "python3",
      "display_name": "Python 3"
    },
    "language_info": {
      "name": "python"
    }
  },
  "cells": [
    {
      "cell_type": "markdown",
      "metadata": {
        "id": "view-in-github",
        "colab_type": "text"
      },
      "source": [
        "<a href=\"https://colab.research.google.com/github/dcorvala/Diplomatura/blob/main/Tarea_Clase_5_Unidad_1.ipynb\" target=\"_parent\"><img src=\"https://colab.research.google.com/assets/colab-badge.svg\" alt=\"Open In Colab\"/></a>"
      ]
    },
    {
      "cell_type": "markdown",
      "source": [
        "## Actividad 1\n",
        "\n",
        "A continuación se muestra una lista de años y otra lista con el porcentaje de desempleo promedio en Argentina correspondiente a esos años.\n",
        "\n",
        "Fuente: https://www.economia.gob.ar/download/infoeco/apendice3a.xlsx\n"
      ],
      "metadata": {
        "id": "gVr8eFjXjilZ"
      }
    },
    {
      "cell_type": "code",
      "execution_count": null,
      "metadata": {
        "id": "fxchQzhXhfQc"
      },
      "outputs": [],
      "source": [
        "desempleo=[6.6,5.9,5.7,7.3,7.6,8.4,8.5,8.6,9.1,8.3,8.2,9.1,10.3,11.9,13.1,13.2,13.5,14.3,14.6,15.6,19.3,17.1,14.9,12.5,11.2,8.9,8.9,10.1,9.1,8.5,8.7,8.6,9.0,8.4,10.6,10.5,11.2,12.7,12.5,12.2,10.7]\n",
        "años= [1982, 1983 ,1984,1985,1986,1987,1988,1989,1990,1991,1992,1993,1994,1995,1996,1997,1998,1999,2000,2001,2002,2003,2004,2005,2006,2007,2008,2009,2010,2011,2012,2013,2014,2015,2016,2017,2018,2019,2020,2021,2022]"
      ]
    },
    {
      "cell_type": "markdown",
      "source": [
        "1) Graficar esta información.\n",
        "\n",
        "> **_NOTA:_** Recuerden que hablamos de que elemento **NO** deben faltar en un gráfico."
      ],
      "metadata": {
        "id": "BXC1mDv7h1Jm"
      }
    },
    {
      "cell_type": "code",
      "source": [
        "#Lo dejo acá para verlo nos, pero después lo borramos\n",
        "\n",
        "import matplotlib.pyplot as plt\n",
        "\n",
        "plt.plot(años,desempleo)\n"
      ],
      "metadata": {
        "id": "HJZdOT-9jTlp"
      },
      "execution_count": null,
      "outputs": []
    },
    {
      "cell_type": "markdown",
      "source": [
        "2) Utilizar las siguientes herramientas para:\n",
        "\n",
        "\n",
        "*  Ponerle una etiqueta a cada eje que inique que hace referencia a los años y a la tasa de desempleo respectivamente.\n",
        "*  Hacer una línea vertical en cada cambio de presidencia\n",
        "*  Escribir el nombre de las últimas 4 presicencias en el segmento correspondiente.\n",
        "* Cambiar el tamaño del gráfico\n",
        "* Que el eje de desempleo muestre valores del 0 al 30\n",
        "* Ponerle título\n",
        "\n",
        "Herramientas para explorar:\n",
        "\n",
        "\n",
        "```\n",
        "plt.xlabel(\"Etiqueta eje x\")\n",
        "plt.ylabel(\"Etiqueta eje y\")\n",
        "plt.title(\"Titulo\")\n",
        "plt.xvline(2019)\n",
        "plt.text(x,y,\"texto\")\n",
        "plt.figure(figsize=(10,6))\n",
        "plt.ylim([#Completar,#Completar])\n",
        "```\n"
      ],
      "metadata": {
        "id": "VqnjfWwslnJV"
      }
    },
    {
      "cell_type": "markdown",
      "source": [
        "3) Contestar las siguientes preguntas:\n",
        "\n",
        "\n",
        "*   ¿En qué periódos aumentó el desempleo?\n",
        "*   ¿En cuáles disminuyó?\n",
        "*   ¿Cuándo fue la tasa más grande de desempleo? ¿Cuándo fue? ¿Y la menor?\n",
        "*   [Extra] Investigar cómo se calcula la tasa de desempleo. ¿Qué otro dato serviría graficar para comprender mejor el fenómeno analizado?\n",
        "\n",
        "\n"
      ],
      "metadata": {
        "id": "w-2TvAublob_"
      }
    },
    {
      "cell_type": "markdown",
      "source": [
        "# Actividad 2\n",
        "\n",
        "A continuación mostramos una lista de los años donde hubo censos en argentina, y la población en cada uno de ellos."
      ],
      "metadata": {
        "id": "YAKIHACtBowN"
      }
    },
    {
      "cell_type": "code",
      "source": [
        "años = [1869,1895, 1914, 1947, 1960, 1970, 1980,1991,2001,2010]\n",
        "poblacion = [1830214, 4044911, 7903662, 15893827 ,20010539,23362333 ,27947446 ,32615528 ,36260130, 40117096]"
      ],
      "metadata": {
        "id": "eCaKwYaaB4Q7"
      },
      "execution_count": null,
      "outputs": []
    },
    {
      "cell_type": "markdown",
      "source": [
        "1) Observar el siguiente código. ¿Expresa bien la evolución de la población a lo largo de los años? ¿Qué le cambiarías?"
      ],
      "metadata": {
        "id": "5XtsUerXBrgL"
      }
    },
    {
      "cell_type": "code",
      "source": [
        "plt.plot(años, poblacion, marker = 'o')\n",
        "plt.xlabel('Años')\n",
        "plt.ylabel('Población')\n",
        "plt.show()"
      ],
      "metadata": {
        "colab": {
          "base_uri": "https://localhost:8080/",
          "height": 465
        },
        "id": "lNFFWfQ3DGdX",
        "outputId": "6922b841-8b77-4684-8426-fb92e8f27ed1"
      },
      "execution_count": null,
      "outputs": [
        {
          "output_type": "display_data",
          "data": {
            "text/plain": [
              "<Figure size 640x480 with 1 Axes>"
            ],
            "image/png": "[encoded data removed]"
          },
          "metadata": {}
        }
      ]
    },
    {
      "cell_type": "markdown",
      "source": [
        "2) Investigar qué hace el parámetro 'marker'. Buscar otras opciones\n",
        "\n",
        "3) Buscar los datos de los censos dispobibles la cantidad de habitantes de Marcos Paz. Agregar esa información al gráfico anterior.\n",
        "\n"
      ],
      "metadata": {
        "id": "KlEro1F3DRg2"
      }
    },
    {
      "cell_type": "markdown",
      "source": [
        "# Actividad 3 (EXTRA):\n",
        "\n",
        "**El paseo del borracho (o el camino aleatorio)**\n",
        "\n",
        "Imaginemos a un borracho parado en un lugar (llamemos a ese lugar el lugar 0).\n",
        "En cada paso el borracho puede caminar **1 metro** a la _izquierda_ **o**  uno a la _derecha_, con **probabilidad 1/2** para cada dirección. El borracho camina hasta haberse desplazado **20 metros** a la _izquierda_ o a la _derecha_ del lugar de partida.\n",
        "\n",
        "1) Completar el código para simular esta situación, guardando la posición en cada tiempo.\n"
      ],
      "metadata": {
        "id": "lTypfPR787Ma"
      }
    },
    {
      "cell_type": "code",
      "source": [
        "import random\n",
        "\n",
        "pos = 0 #En esta variable guardaremos la posición en cada momento\n",
        "t = 0 # En esta variable guardaremos el tiempo\n",
        "trayectoria = [] # En esta variable guardaremos todas las posiciones recorridas\n",
        "tiempo = #Completar\n",
        "\n",
        "\n",
        "while pos>=-20 and #Completar :\n",
        "  trayectoria.append(pos)\n",
        "  tiempo.append(#Completar)\n",
        "  t=t+1\n",
        "  p=random.randint(0,1)\n",
        "  if #Completar"
      ],
      "metadata": {
        "id": "nsKOBULv_hAV"
      },
      "execution_count": null,
      "outputs": []
    },
    {
      "cell_type": "markdown",
      "source": [
        "2) Graficar la trayectoria\n",
        "\n",
        "3) Modificar el código anterior para realizar varias simulaciones y graficar las distintas trayectorias\n",
        "\n",
        "4) Calcular el tiempo promedio que tarda el borracho en llegar a alguno de los bordes\n",
        "\n"
      ],
      "metadata": {
        "id": "FGzidLph_dp2"
      }
    },
    {
      "cell_type": "code",
      "source": [],
      "metadata": {
        "id": "RdMlqkWz_V1I"
      },
      "execution_count": null,
      "outputs": []
    }
  ]
}