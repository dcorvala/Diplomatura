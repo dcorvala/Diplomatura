{
  "nbformat": 4,
  "nbformat_minor": 0,
  "metadata": {
    "colab": {
      "provenance": [],
      "include_colab_link": true
    },
    "kernelspec": {
      "name": "python3",
      "display_name": "Python 3"
    },
    "language_info": {
      "name": "python"
    }
  },
  "cells": [
    {
      "cell_type": "markdown",
      "metadata": {
        "id": "view-in-github",
        "colab_type": "text"
      },
      "source": [
        "<a href=\"https://colab.research.google.com/github/dcorvala/Diplomatura/blob/main/Clase_3_Unidad_1_Extra_Piedra%2C_papel_o_tijera_(resuelto).ipynb\" target=\"_parent\"><img src=\"https://colab.research.google.com/assets/colab-badge.svg\" alt=\"Open In Colab\"/></a>"
      ]
    },
    {
      "cell_type": "code",
      "execution_count": null,
      "metadata": {
        "colab": {
          "base_uri": "https://localhost:8080/"
        },
        "id": "kkUnxV-pJX2b",
        "outputId": "ebf70268-c31c-4fd8-b6d0-48a05795dffe"
      },
      "outputs": [
        {
          "output_type": "stream",
          "name": "stdout",
          "text": [
            "Nombre del jugador 1: Carla\n",
            "Nombre del jugador 2: Anto\n",
            "Carla, elegí piedra, papel o tijera: tijera\n",
            "Anto, elegí piedra, papel o tijera: piedra\n",
            "Felicitaciones Anto ganaste!\n"
          ]
        }
      ],
      "source": [
        "# Ingresar nombres\n",
        "j1 = input(\"Nombre del jugador 1: \")\n",
        "j2 = input(\"Nombre del jugador 2: \")\n",
        "\n",
        "# Jugadas\n",
        "jugada1 = input(j1 + \", elegí piedra, papel o tijera: \")\n",
        "jugada2 = input(j2 + \", elegí piedra, papel o tijera: \")\n",
        "\n",
        "# Comparar jugadas\n",
        "if jugada1 == jugada2:\n",
        "    print(\"Empate\")\n",
        "\n",
        "elif (jugada1 == \"piedra\" and jugada2 == \"tijera\") or \\\n",
        "     (jugada1 == \"tijera\" and jugada2 == \"papel\") or \\\n",
        "     (jugada1 == \"papel\" and jugada2 == \"piedra\"):\n",
        "    print(\"Felicitaciones\", j1, 'ganaste!')\n",
        "\n",
        "elif (jugada2 == \"piedra\" and jugada1 == \"tijera\") or \\\n",
        "     (jugada2 == \"tijera\" and jugada1 == \"papel\") or \\\n",
        "     (jugada2 == \"papel\" and jugada1 == \"piedra\"):\n",
        "    print(\"Felicitaciones\", j2, 'ganaste!')\n",
        "\n",
        "else:\n",
        "    print(\"Alguien escribió mal su jugada.\")"
      ]
    },
    {
      "cell_type": "code",
      "source": [
        "import random\n",
        "\n",
        "# Ingresar nombres\n",
        "j1 = input(\"Nombre del jugador 1: \")\n",
        "\n",
        "# Jugada jugador 1\n",
        "jugada1 = input(j1 + \", elegí piedra, papel o tijera: \")\n",
        "\n",
        "# Jugada máquina\n",
        "j2 = random.randint(1,3)  # 1 es piedra, 2 es papel y 3 es tijera\n",
        "\n",
        "if j2 == 1:\n",
        "  jugada2 = 'piedra'\n",
        "elif j2 == 2:\n",
        "  jugada2 = 'papel'\n",
        "elif j2 == 3:\n",
        "  jugada2 = 'tijera'\n",
        "\n",
        "print('La matrix sacó' , jugada2)\n",
        "\n",
        "# Comparar jugadas\n",
        "if jugada1 == jugada2:\n",
        "    print(\"Empate\")\n",
        "\n",
        "elif (jugada1 == \"piedra\" and jugada2 == \"tijera\") or \\\n",
        "     (jugada1 == \"tijera\" and jugada2 == \"papel\") or \\\n",
        "     (jugada1 == \"papel\" and jugada2 == \"piedra\"):\n",
        "    print(\"Felicitaciones\", j1, 'ganaste!')\n",
        "\n",
        "elif (jugada2 == \"piedra\" and jugada1 == \"tijera\") or \\\n",
        "     (jugada2 == \"tijera\" and jugada1 == \"papel\") or \\\n",
        "     (jugada2 == \"papel\" and jugada1 == \"piedra\"):\n",
        "    print(\"Fuiste vencido por la matrix!\")\n",
        "\n",
        "else:\n",
        "    print(\"Alguien escribió mal su jugada.\")"
      ],
      "metadata": {
        "colab": {
          "base_uri": "https://localhost:8080/"
        },
        "id": "TYZ4OdxoofyV",
        "outputId": "ae8f259c-cc64-4ba6-c2bd-0cd75d35d6e4"
      },
      "execution_count": null,
      "outputs": [
        {
          "output_type": "stream",
          "name": "stdout",
          "text": [
            "Nombre del jugador 1: Carla\n",
            "Carla, elegí piedra, papel o tijera: piedra\n",
            "La matrix sacó papel\n",
            "Fuiste vencido por la matrix!\n"
          ]
        }
      ]
    }
  ]
}